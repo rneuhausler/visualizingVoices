{
 "cells": [
  {
   "cell_type": "code",
   "execution_count": 97,
   "metadata": {
    "collapsed": false
   },
   "outputs": [],
   "source": [
    "import csv\n",
    "import re\n",
    "import pandas as pd\n",
    "from urllib.request import urlopen\n",
    "from bs4 import BeautifulSoup"
   ]
  },
  {
   "cell_type": "code",
   "execution_count": 100,
   "metadata": {
    "collapsed": true
   },
   "outputs": [],
   "source": [
    "## file name and setup \n",
    "\n",
    "file_name = 'index'\n",
    "\n",
    "#pollutants\n",
    "terms_of_interest = ['carcinogenic', 'carcinogens', 'arsenic', 'nitrate', 'nitrite', 'nitrates']\n",
    "\n",
    "#urls\n",
    "basic_url = 'https://www.communitywatercenter.org/news?n=448&page='\n",
    "n_pages = 34\n",
    "\n",
    "#cities\n",
    "location_names = pd.read_csv('CA_names.csv')"
   ]
  },
  {
   "cell_type": "code",
   "execution_count": 99,
   "metadata": {
    "collapsed": true
   },
   "outputs": [],
   "source": [
    "pagelinks =[]\n",
    "\n",
    "for number in range(1,n_pages+1):\n",
    "\n",
    "    url = basic_url + str(number)\n",
    "    page = urlopen(url)\n",
    "    soup = BeautifulSoup(page, 'html.parser') #containing the HTML of the page\n",
    "    name_box = soup.find_all('h3', attrs={'class': 'news_heading'})\n",
    "    for count in range(0, len(name_box)):\n",
    "            for link in name_box[count].find_all('a', href=True):\n",
    "                pagelinks.append(link['href']) "
   ]
  },
  {
   "cell_type": "code",
   "execution_count": 101,
   "metadata": {
    "collapsed": false
   },
   "outputs": [],
   "source": [
    "# For finding cities and counties\n",
    "\n",
    "cities = location_names['city'].tolist() \n",
    "counties = location_names['county_name'].tolist()\n",
    "cities.remove('August')\n",
    "cities.remove('Challenge')\n",
    "locations = cities + counties\n",
    "\n",
    "def intersect(a, b):\n",
    "     return list(set(a) & set(b))"
   ]
  },
  {
   "cell_type": "code",
   "execution_count": 102,
   "metadata": {
    "collapsed": true
   },
   "outputs": [],
   "source": [
    "#Writing to CSV file (basic)\n",
    "\n",
    "for count in range(0, len(pagelinks)):\n",
    "    \n",
    "    page_url = \"https://www.communitywatercenter.org\" + pagelinks[count]\n",
    "    page = urlopen(page_url)\n",
    "    soup = BeautifulSoup(page, 'html.parser')\n",
    "    \n",
    "    title = soup.title\n",
    "    date = soup.find_all(string=re.compile(\"Published on\"))\n",
    "    L1 = soup.get_text().split()\n",
    "    city = intersect(L1, cities)\n",
    "    county = intersect(L1, counties)\n",
    "    \n",
    "    with open(file_name + '.csv', 'a') as mycsv: ## a for append\n",
    "        \n",
    "        writer = csv.writer(mycsv)\n",
    "        \n",
    "        for term in range(0, len(terms_of_interest)):\n",
    "        \n",
    "            phrase = soup.find_all(string=re.compile(terms_of_interest[term]))\n",
    "                    \n",
    "            for item in range(0, len(phrase)):\n",
    "                \n",
    "                writer.writerow([phrase[item], str(date)[19:-8], city, county, title.string, page_url])"
   ]
  },
  {
   "cell_type": "code",
   "execution_count": null,
   "metadata": {
    "collapsed": true
   },
   "outputs": [],
   "source": []
  }
 ],
 "metadata": {
  "kernelspec": {
   "display_name": "Python 3",
   "language": "python",
   "name": "python3"
  },
  "language_info": {
   "codemirror_mode": {
    "name": "ipython",
    "version": 3
   },
   "file_extension": ".py",
   "mimetype": "text/x-python",
   "name": "python",
   "nbconvert_exporter": "python",
   "pygments_lexer": "ipython3",
   "version": "3.6.0"
  }
 },
 "nbformat": 4,
 "nbformat_minor": 2
}
